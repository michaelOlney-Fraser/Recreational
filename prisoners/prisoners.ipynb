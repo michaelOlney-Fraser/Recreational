{
 "cells": [
  {
   "cell_type": "code",
   "execution_count": 1,
   "metadata": {},
   "outputs": [],
   "source": [
    "import numpy as np "
   ]
  },
  {
   "cell_type": "code",
   "execution_count": 36,
   "metadata": {},
   "outputs": [
    {
     "name": "stdout",
     "output_type": "stream",
     "text": [
      "57\n",
      "54 54\n"
     ]
    }
   ],
   "source": [
    "key_idx = 54\n",
    "heads_list = [1,54,3,35,0,24,60,12]\n",
    "\n",
    "def flip_this_coin(key_idx, heads_list):\n",
    "    s = sum(heads_list)\n",
    "    state = np.mod(s,64)    \n",
    "    if key_idx == state:\n",
    "        return 0\n",
    "    \n",
    "    for head_idx in heads_list:\n",
    "        if state - head_idx == key_idx:\n",
    "            return head_idx\n",
    "        \n",
    "    for c in [0,1,2]:\n",
    "        m = c*64 + key_idx - state\n",
    "        if 0 <= m < 64:\n",
    "            return m\n",
    "\n",
    "def key_is_under(heads_list):\n",
    "    return np.mod(sum(heads_list),64)\n",
    "\n",
    "flip = flip_this_coin(key_idx, heads_list)\n",
    "print(flip)\n",
    "\n",
    "heads_list.append(flip)\n",
    "prediction = key_is_under(heads_list)\n",
    "\n",
    "print(key_idx, prediction)"
   ]
  },
  {
   "cell_type": "code",
   "execution_count": 25,
   "metadata": {},
   "outputs": [],
   "source": []
  },
  {
   "cell_type": "code",
   "execution_count": 26,
   "metadata": {},
   "outputs": [],
   "source": []
  },
  {
   "cell_type": "code",
   "execution_count": 27,
   "metadata": {},
   "outputs": [
    {
     "name": "stdout",
     "output_type": "stream",
     "text": [
      "46\n"
     ]
    }
   ],
   "source": []
  },
  {
   "cell_type": "code",
   "execution_count": 28,
   "metadata": {},
   "outputs": [
    {
     "data": {
      "text/plain": [
       "5"
      ]
     },
     "execution_count": 28,
     "metadata": {},
     "output_type": "execute_result"
    }
   ],
   "source": []
  },
  {
   "cell_type": "code",
   "execution_count": null,
   "metadata": {},
   "outputs": [],
   "source": []
  }
 ],
 "metadata": {
  "kernelspec": {
   "display_name": ".UlmPhDvenv",
   "language": "python",
   "name": "python3"
  },
  "language_info": {
   "codemirror_mode": {
    "name": "ipython",
    "version": 3
   },
   "file_extension": ".py",
   "mimetype": "text/x-python",
   "name": "python",
   "nbconvert_exporter": "python",
   "pygments_lexer": "ipython3",
   "version": "3.9.8"
  }
 },
 "nbformat": 4,
 "nbformat_minor": 2
}

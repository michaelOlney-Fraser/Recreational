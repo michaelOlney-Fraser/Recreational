{
 "cells": [
  {
   "cell_type": "code",
   "execution_count": null,
   "metadata": {},
   "outputs": [],
   "source": [
    "import numpy as np\n",
    "import matplotlib.pyplot as plt\n",
    "from matplotlib.table import Table"
   ]
  },
  {
   "cell_type": "code",
   "execution_count": 171,
   "metadata": {},
   "outputs": [],
   "source": [
    "def generate_connection_matrix(num_squares): \n",
    "\n",
    "    connection_matrix = np.zeros((num_squares, num_squares))\n",
    "    nums = list(range(1, num_squares + 1))\n",
    "    \n",
    "    connection_matrix[0] = nums # creating 1st row\n",
    "    for row in nums:\n",
    "        for col in nums:\n",
    "            allowed_nums = list(range(1, num_squares + 1))\n",
    "            if connection_matrix[row - 1][col - 1] == 0: \n",
    "                # Checking the numbers already in this row and removing them from allowed nums\n",
    "                for num in connection_matrix[row - 1]:\n",
    "                    if num in allowed_nums: allowed_nums.remove(num)\n",
    "                \n",
    "                # Checking the numbers already in this column\n",
    "                for num in [connection_matrix[_][col - 1] for _ in range(num_squares)]:\n",
    "                    if num in allowed_nums: allowed_nums.remove(num)\n",
    "                \n",
    "                try: \n",
    "                    connection_matrix[row - 1][col - 1] = allowed_nums[0]\n",
    "                except:\n",
    "                    print(row,col)\n",
    "                \n",
    "\n",
    "    return connection_matrix.astype(int)\n",
    "mat_4 = generate_connection_matrix(4)\n",
    "mat_64 = generate_connection_matrix(64)\n",
    "\n"
   ]
  },
  {
   "cell_type": "code",
   "execution_count": null,
   "metadata": {},
   "outputs": [
    {
     "data": {
      "text/plain": [
       "['0000',\n",
       " '0001',\n",
       " '0010',\n",
       " '0011',\n",
       " '0100',\n",
       " '0101',\n",
       " '0110',\n",
       " '0111',\n",
       " '1000',\n",
       " '1001',\n",
       " '1010',\n",
       " '1011',\n",
       " '1100',\n",
       " '1101',\n",
       " '1110',\n",
       " '1111']"
      ]
     },
     "execution_count": 34,
     "metadata": {},
     "output_type": "execute_result"
    }
   ],
   "source": [
    "def generate_hypercube_vertices(dimension):\n",
    "    vertices = []\n",
    "    def genbin(n, bs=''):\n",
    "        if len(bs) == n:\n",
    "            vertices.append(bs)\n",
    "        else:\n",
    "            genbin(n, bs + '0')\n",
    "            genbin(n, bs + '1')\n",
    "\n",
    "    genbin(dimension)\n",
    "    return vertices\n",
    "#generate_hypercube_vertices(4)"
   ]
  },
  {
   "cell_type": "code",
   "execution_count": null,
   "metadata": {},
   "outputs": [
    {
     "data": {
      "text/plain": [
       "[2, 3, 4]"
      ]
     },
     "execution_count": 36,
     "metadata": {},
     "output_type": "execute_result"
    }
   ],
   "source": [
    "def find_1s(binary_string):\n",
    "    binary_list = list(binary_string)\n",
    "    idxs = []\n",
    "    for char in binary_list:\n",
    "        if char == \"1\":\n",
    "            idx = binary_list.index(char) + 1\n",
    "            idxs.append(idx)\n",
    "            binary_list[idx - 1] = 0\n",
    "    return idxs\n",
    "#find_1s(\"0111\")"
   ]
  },
  {
   "cell_type": "code",
   "execution_count": null,
   "metadata": {},
   "outputs": [],
   "source": [
    "def colour_vertices(connection_matrix):\n",
    "    dimension = len(connection_matrix)\n",
    "    vertices = generate_hypercube_vertices(dimension)\n",
    "    colours = []\n",
    "\n",
    "    for vertex in vertices:\n",
    "        flipped_dimensions = find_1s(vertex)\n",
    "        colour = 1\n",
    "        for dim in flipped_dimensions:\n",
    "            new_colour = int(connection_matrix[dim - 1][colour - 1])\n",
    "            colour = new_colour\n",
    "        colours.append(colour)\n",
    "    \n",
    "    hypercube = {}\n",
    "    n = 0 \n",
    "    for vertex in vertices:\n",
    "        hypercube[vertex] = colours[n]\n",
    "        n+=1\n",
    "    return hypercube\n",
    "#colour_vertices(4)"
   ]
  },
  {
   "cell_type": "code",
   "execution_count": null,
   "metadata": {},
   "outputs": [],
   "source": [
    "def find_colour(coins_string, connection_matrix):\n",
    "    flipped_dimensions = find_1s(coins_string)\n",
    "    colour = 1\n",
    "    for dim in flipped_dimensions:\n",
    "        new_colour = int(connection_matrix[dim-1][colour-1])\n",
    "        colour = new_colour\n",
    "    return colour\n",
    "#find_colour(\"1111\", mat_4)"
   ]
  },
  {
   "cell_type": "code",
   "execution_count": 243,
   "metadata": {},
   "outputs": [],
   "source": [
    "def flip_this_coin(key_position, coins_string, connection_matrix):\n",
    "    current_colour = find_colour(coins_string, connection_matrix)\n",
    "    #print(current_colour)\n",
    "    #print(connection_matrix)\n",
    "    column = [int(connection_matrix[_][current_colour - 1]) for _ in range(len(connection_matrix))]\n",
    "    #print(column)\n",
    "    flip_dimension = column.index(key_position) + 1 \n",
    "\n",
    "    return flip_dimension \n",
    "#flip_this_coin(3,\"0010\",mat_4)"
   ]
  },
  {
   "cell_type": "code",
   "execution_count": null,
   "metadata": {},
   "outputs": [
    {
     "data": {
      "text/plain": [
       "'100101'"
      ]
     },
     "execution_count": 165,
     "metadata": {},
     "output_type": "execute_result"
    }
   ],
   "source": [
    "def flip_nth_bit(n, binary_string):\n",
    "    binary_list = list(binary_string)\n",
    "    if binary_list[n-1] == '0':\n",
    "        binary_list[n-1] = '1'\n",
    "    else:\n",
    "        binary_list[n-1] = '0'\n",
    "    return ''.join(binary_list)\n",
    "#flip_nth_bit(4,'100001')"
   ]
  },
  {
   "cell_type": "code",
   "execution_count": 239,
   "metadata": {},
   "outputs": [
    {
     "data": {
      "text/plain": [
       "[[1, 1, 0], [1, 0, 0], [0, 1, 1]]"
      ]
     },
     "execution_count": 239,
     "metadata": {},
     "output_type": "execute_result"
    }
   ],
   "source": [
    "def create_board_from_coins_list(coins_string):\n",
    "    coins_list = list(coins_string)\n",
    "    num_squares = len(coins_list)\n",
    "    side_length = int(np.sqrt(num_squares))\n",
    "    board = []\n",
    "\n",
    "    index = 0\n",
    "    for _ in range(side_length):\n",
    "        row = coins_list[index:index+side_length]  # Take the next n elements for the row\n",
    "        board.append([int(_) for _ in row])\n",
    "        index += side_length\n",
    "    \n",
    "    return board\n",
    "\n",
    "heads_test = \"110100011\"\n",
    "create_board_from_coins_list(heads_test)"
   ]
  },
  {
   "cell_type": "code",
   "execution_count": 244,
   "metadata": {},
   "outputs": [
    {
     "name": "stdout",
     "output_type": "stream",
     "text": [
      "[[0, 0], [0, 0]] 0000\n"
     ]
    },
    {
     "ename": "ValueError",
     "evalue": "0 is not in list",
     "output_type": "error",
     "traceback": [
      "\u001b[1;31m---------------------------------------------------------------------------\u001b[0m",
      "\u001b[1;31mValueError\u001b[0m                                Traceback (most recent call last)",
      "Cell \u001b[1;32mIn[244], line 10\u001b[0m\n\u001b[0;32m      8\u001b[0m initial_board \u001b[38;5;241m=\u001b[39m create_board_from_coins_list(coin_string)\n\u001b[0;32m      9\u001b[0m \u001b[38;5;28mprint\u001b[39m(initial_board, coin_string)\n\u001b[1;32m---> 10\u001b[0m flip_coin \u001b[38;5;241m=\u001b[39m \u001b[43mflip_this_coin\u001b[49m\u001b[43m(\u001b[49m\u001b[43mkey_position\u001b[49m\u001b[43m,\u001b[49m\u001b[43m \u001b[49m\u001b[43mcoin_string\u001b[49m\u001b[43m,\u001b[49m\u001b[43m \u001b[49m\u001b[43mmatrix\u001b[49m\u001b[43m)\u001b[49m\n\u001b[0;32m     11\u001b[0m new_coin_list \u001b[38;5;241m=\u001b[39m flip_nth_bit(flip_coin, coin_string)\n\u001b[0;32m     12\u001b[0m new_board \u001b[38;5;241m=\u001b[39m create_board_from_coins_list(new_coin_list)\n",
      "Cell \u001b[1;32mIn[243], line 7\u001b[0m, in \u001b[0;36mflip_this_coin\u001b[1;34m(key_position, coins_string, connection_matrix)\u001b[0m\n\u001b[0;32m      5\u001b[0m column \u001b[38;5;241m=\u001b[39m [\u001b[38;5;28mint\u001b[39m(connection_matrix[_][current_colour \u001b[38;5;241m-\u001b[39m \u001b[38;5;241m1\u001b[39m]) \u001b[38;5;28;01mfor\u001b[39;00m _ \u001b[38;5;129;01min\u001b[39;00m \u001b[38;5;28mrange\u001b[39m(\u001b[38;5;28mlen\u001b[39m(connection_matrix))]\n\u001b[0;32m      6\u001b[0m \u001b[38;5;66;03m#print(column)\u001b[39;00m\n\u001b[1;32m----> 7\u001b[0m flip_dimension \u001b[38;5;241m=\u001b[39m \u001b[43mcolumn\u001b[49m\u001b[38;5;241;43m.\u001b[39;49m\u001b[43mindex\u001b[49m\u001b[43m(\u001b[49m\u001b[43mkey_position\u001b[49m\u001b[43m)\u001b[49m \u001b[38;5;241m+\u001b[39m \u001b[38;5;241m1\u001b[39m \n\u001b[0;32m      9\u001b[0m \u001b[38;5;28;01mreturn\u001b[39;00m flip_dimension\n",
      "\u001b[1;31mValueError\u001b[0m: 0 is not in list"
     ]
    }
   ],
   "source": [
    "num_squares = 4\n",
    "coin_strings = generate_hypercube_vertices(num_squares)\n",
    "matrix = generate_connection_matrix(num_squares)\n",
    "\n",
    "fails = []\n",
    "for key_position in range(num_squares):\n",
    "    for coin_string in coin_strings:\n",
    "        initial_board = create_board_from_coins_list(coin_string)\n",
    "        print(initial_board, coin_string)\n",
    "        flip_coin = flip_this_coin(key_position, coin_string, matrix)\n",
    "        new_coin_list = flip_nth_bit(flip_coin, coin_string)\n",
    "        new_board = create_board_from_coins_list(new_coin_list)\n",
    "        new_colour = find_colour(new_board)\n",
    "        print(f'key = {key_position}', f'initial board = {initial_board}', \n",
    "              f'flip {flip_coin}', f'new_board {new_board}', \n",
    "              f'new_colour {new_colour}')\n",
    "        if new_colour != key_position:\n",
    "            fails.append(key_position, coin_strings)\n",
    "\n",
    "fails"
   ]
  },
  {
   "cell_type": "code",
   "execution_count": null,
   "metadata": {},
   "outputs": [],
   "source": [
    "# Plotting\n",
    "\n",
    "# Generate a sample 64x64 matrix (you can replace this with your actual matrix)\n",
    "matrix = mat_64\n",
    "\n",
    "# Create a figure and axis\n",
    "fig, ax = plt.subplots(figsize=(11.7, 8.3))  # A4 size in inches (landscape)\n",
    "\n",
    "# Hide the axes\n",
    "ax.xaxis.set_visible(False)\n",
    "ax.yaxis.set_visible(False)\n",
    "ax.set_frame_on(False)\n",
    "\n",
    "# Create a table\n",
    "table = Table(ax, bbox=[0, 0, 1, 1])\n",
    "\n",
    "# Add data to the table\n",
    "nrows, ncols = matrix.shape\n",
    "for i in range(nrows):\n",
    "    for j in range(ncols):\n",
    "        table.add_cell(i, j, 1/ncols, 1/nrows, text=f'{matrix[i, j]}', loc='center', edgecolor='black')\n",
    "\n",
    "# Add the table to the plot\n",
    "ax.add_table(table)\n",
    "\n",
    "# Save the figure to a PDF\n",
    "plt.savefig('matrix.pdf', bbox_inches='tight', pad_inches=0.1, dpi=300)\n",
    "\n",
    "plt.show()\n"
   ]
  }
 ],
 "metadata": {
  "kernelspec": {
   "display_name": ".recreational_venv",
   "language": "python",
   "name": "python3"
  },
  "language_info": {
   "codemirror_mode": {
    "name": "ipython",
    "version": 3
   },
   "file_extension": ".py",
   "mimetype": "text/x-python",
   "name": "python",
   "nbconvert_exporter": "python",
   "pygments_lexer": "ipython3",
   "version": "3.10.11"
  }
 },
 "nbformat": 4,
 "nbformat_minor": 2
}

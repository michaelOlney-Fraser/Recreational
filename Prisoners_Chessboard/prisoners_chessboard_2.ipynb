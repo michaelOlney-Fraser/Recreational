{
 "cells": [
  {
   "cell_type": "code",
   "execution_count": 150,
   "metadata": {},
   "outputs": [],
   "source": [
    "import numpy as np\n",
    "import matplotlib.pyplot as plt\n",
    "from matplotlib.table import Table\n",
    "import random"
   ]
  },
  {
   "cell_type": "code",
   "execution_count": 143,
   "metadata": {},
   "outputs": [],
   "source": [
    "def generate_connection_matrix(num_squares): \n",
    "\n",
    "    connection_matrix = np.zeros((num_squares, num_squares))\n",
    "    nums = list(range(1, num_squares + 1))\n",
    "    \n",
    "    connection_matrix[0] = nums # creating 1st row\n",
    "    for row in nums:\n",
    "        for col in nums:\n",
    "            allowed_nums = list(range(1, num_squares + 1))\n",
    "            if connection_matrix[row - 1][col - 1] == 0: \n",
    "                # Checking the numbers already in this row and removing them from allowed nums\n",
    "                for num in connection_matrix[row - 1]:\n",
    "                    if num in allowed_nums: allowed_nums.remove(num)\n",
    "                \n",
    "                # Checking the numbers already in this column\n",
    "                for num in [connection_matrix[_][col - 1] for _ in range(num_squares)]:\n",
    "                    if num in allowed_nums: allowed_nums.remove(num)\n",
    "                \n",
    "                try: \n",
    "                    connection_matrix[row - 1][col - 1] = allowed_nums[0]\n",
    "                except:\n",
    "                    None\n",
    "\n",
    "    return connection_matrix.astype(int)\n",
    "\n",
    "mat_4 = generate_connection_matrix(4)\n",
    "mat_64 = generate_connection_matrix(64)"
   ]
  },
  {
   "cell_type": "code",
   "execution_count": 395,
   "metadata": {},
   "outputs": [],
   "source": [
    "def generate_connection_matrix_alternate(num_squares): \n",
    "\n",
    "    connection_matrix = np.zeros((num_squares, num_squares))\n",
    "    nums = list(range(1, num_squares + 1))\n",
    "    \n",
    "    random.shuffle(nums)\n",
    "    connection_matrix[0] = nums # creating 1st row\n",
    "    for row in nums:\n",
    "        for col in nums:\n",
    "            allowed_nums = list(range(1, num_squares + 1))\n",
    "            if connection_matrix[row - 1][col - 1] == 0: \n",
    "                # Checking the numbers already in this row and removing them from allowed nums\n",
    "                for num in connection_matrix[row - 1]:\n",
    "                    if num in allowed_nums: allowed_nums.remove(num)\n",
    "                \n",
    "                # Checking the numbers already in this column\n",
    "                for num in [connection_matrix[_][col - 1] for _ in range(num_squares)]:\n",
    "                    if num in allowed_nums: allowed_nums.remove(num)\n",
    "                \n",
    "                try: \n",
    "                    connection_matrix[row - 1][col - 1] = random.choice(allowed_nums)\n",
    "                   # connection_matrix[row - 1][col - 1] = allowed_nums[-1]\n",
    "                except:\n",
    "                    None\n",
    "\n",
    "    return connection_matrix.astype(int)\n",
    "\n",
    "mat_4 = generate_connection_matrix(4)\n",
    "mat_64 = generate_connection_matrix(64)"
   ]
  },
  {
   "cell_type": "code",
   "execution_count": 470,
   "metadata": {},
   "outputs": [
    {
     "data": {
      "text/plain": [
       "array([[3, 1, 4, 2],\n",
       "       [0, 4, 1, 3],\n",
       "       [4, 3, 2, 1],\n",
       "       [2, 0, 3, 4]])"
      ]
     },
     "execution_count": 470,
     "metadata": {},
     "output_type": "execute_result"
    }
   ],
   "source": [
    "generate_connection_matrix_alternate(4)"
   ]
  },
  {
   "cell_type": "code",
   "execution_count": 397,
   "metadata": {},
   "outputs": [],
   "source": [
    "def generate_hypercube_vertices(dimension):\n",
    "    vertices = []\n",
    "    def genbin(n, bs=''):\n",
    "        if len(bs) == n:\n",
    "            vertices.append(bs)\n",
    "        else:\n",
    "            genbin(n, bs + '0')\n",
    "            genbin(n, bs + '1')\n",
    "\n",
    "    genbin(dimension)\n",
    "    return vertices\n",
    "#generate_hypercube_vertices(4)\n",
    "\n",
    "def find_1s(binary_string):\n",
    "    binary_list = list(binary_string)\n",
    "    idxs = []\n",
    "    for char in binary_list:\n",
    "        if char == \"1\":\n",
    "            idx = binary_list.index(char) + 1\n",
    "            idxs.append(idx)\n",
    "            binary_list[idx - 1] = 0\n",
    "    return idxs\n",
    "#find_1s(\"0111\")\n",
    "\n",
    "def colour_vertices(connection_matrix):\n",
    "    dimension = len(connection_matrix)\n",
    "    vertices = generate_hypercube_vertices(dimension)\n",
    "    colours = []\n",
    "\n",
    "    for vertex in vertices:\n",
    "        flipped_dimensions = find_1s(vertex)\n",
    "        colour = 1\n",
    "        for dim in flipped_dimensions:\n",
    "            new_colour = int(connection_matrix[dim - 1][colour - 1])\n",
    "            colour = new_colour\n",
    "        colours.append(colour)\n",
    "    \n",
    "    hypercube = {}\n",
    "    n = 0 \n",
    "    for vertex in vertices:\n",
    "        hypercube[vertex] = colours[n]\n",
    "        n+=1\n",
    "    return hypercube\n",
    "#colour_vertices(4)\n",
    "\n",
    "def find_colour(coins_string, connection_matrix):\n",
    "    flipped_dimensions = find_1s(coins_string)\n",
    "    colour = 1\n",
    "    for dim in flipped_dimensions:\n",
    "        new_colour = int(connection_matrix[dim-1][colour-1])\n",
    "        colour = new_colour\n",
    "    return colour\n",
    "#find_colour(\"1111\", mat_4)\n",
    "\n",
    "def flip_this_coin(key_position, coins_string, connection_matrix):\n",
    "    current_colour = find_colour(coins_string, connection_matrix)\n",
    "    #print(current_colour)\n",
    "    #print(connection_matrix)\n",
    "    column = [int(connection_matrix[_][current_colour - 1]) for _ in range(len(connection_matrix))]\n",
    "    #print(column)\n",
    "    flip_dimension = column.index(key_position) + 1 \n",
    "\n",
    "    return flip_dimension \n",
    "#flip_this_coin(3,\"0010\",mat_4)\n",
    "\n",
    "def find_nicest_board(num_squares):\n",
    "    \"\"\"Finds the squarest looking board for a given number of squares\"\"\"\n",
    "    current_board = (1,num_squares)\n",
    "    multiples = []\n",
    "    for n in range(2,int(num_squares)):\n",
    "        for m in range(2,int(num_squares)):\n",
    "            if n*m == num_squares:\n",
    "                #print(num_squares,n,m)\n",
    "                multiples.append((n,m))\n",
    "    \n",
    "    if multiples != []:\n",
    "        diffs = [np.abs(multiple[0]-multiple[1]) for multiple in multiples]\n",
    "        current_board = multiples[diffs.index(min(diffs))]\n",
    "        #print(num_squares,diffs,multiples,current_board)\n",
    "    \n",
    "    return current_board\n",
    "\n",
    "def flip_nth_bit(n, binary_string):\n",
    "    binary_list = list(binary_string)\n",
    "    if binary_list[n-1] == '0':\n",
    "        binary_list[n-1] = '1'\n",
    "    else:\n",
    "        binary_list[n-1] = '0'\n",
    "    return ''.join(binary_list)\n",
    "#flip_nth_bit(4,'100001')\n",
    "\n",
    "def create_board_from_coins_list(coins_string):\n",
    "    coins_list = list(coins_string)\n",
    "    num_squares = len(coins_list)\n",
    "    board_shape = find_nicest_board(num_squares)\n",
    "    board = []\n",
    "\n",
    "    index = 0\n",
    "    for _ in range(board_shape[0]):\n",
    "        row = coins_list[index:index+board_shape[1]]  \n",
    "        board.append([int(_) for _ in row])\n",
    "        index += board_shape[1]\n",
    "    \n",
    "    return board\n",
    "\n",
    "heads_test = \"110110101011\"\n",
    "#create_board_from_coins_list(heads_test)"
   ]
  },
  {
   "cell_type": "code",
   "execution_count": 519,
   "metadata": {},
   "outputs": [
    {
     "data": {
      "text/plain": [
       "(True,\n",
       " <matplotlib.image.AxesImage at 0x1f19446a320>,\n",
       " array([[4, 3, 2, 1],\n",
       "        [2, 1, 4, 3],\n",
       "        [3, 4, 1, 2],\n",
       "        [1, 2, 3, 4]]))"
      ]
     },
     "execution_count": 519,
     "metadata": {},
     "output_type": "execute_result"
    },
    {
     "data": {
      "image/png": "[encoded data removed]",
      "text/plain": [
       "<Figure size 640x480 with 1 Axes>"
      ]
     },
     "metadata": {},
     "output_type": "display_data"
    }
   ],
   "source": [
    "def testing(connection_matrix_function, num_squares):\n",
    "    coin_strings = generate_hypercube_vertices(num_squares)\n",
    "    matrix = connection_matrix_function(num_squares)\n",
    "\n",
    "    fails = []\n",
    "    for key_position in range(1,num_squares + 1):\n",
    "        try: \n",
    "            for coin_string in coin_strings:\n",
    "                initial_board = create_board_from_coins_list(coin_string)\n",
    "                #print(initial_board, coin_string)\n",
    "                flip_coin = flip_this_coin(key_position, coin_string, matrix)\n",
    "                new_coin_list = flip_nth_bit(flip_coin, coin_string)\n",
    "                new_board = create_board_from_coins_list(new_coin_list)\n",
    "                new_colour = find_colour(new_coin_list, matrix)\n",
    "                #print(f'key = {key_position}', f'initial board = {initial_board}', \n",
    "                    #f'flip {flip_coin}', f'new_board {new_board}', \n",
    "                    #f'new_colour {new_colour}')\n",
    "                if key_position != new_colour:\n",
    "                    fails.append(f'key = {key_position}, initial board = {initial_board}, flip {flip_coin}, new_board {new_board}, new_colour {new_colour}')\n",
    "        except:\n",
    "            fails.append(f'key = {key_position}, initial board = {initial_board}, flip {flip_coin}, new_board {new_board}, new_colour {new_colour}')\n",
    "\n",
    "    if fails == []:\n",
    "        return True, plt.imshow(matrix), matrix\n",
    "    else: \n",
    "        return False, plt.imshow(matrix), matrix, fails\n",
    "    \n",
    "testing(generate_connection_matrix_alternate,4)"
   ]
  },
  {
   "cell_type": "code",
   "execution_count": 177,
   "metadata": {},
   "outputs": [
    {
     "data": {
      "text/plain": [
       "<matplotlib.image.AxesImage at 0x1f1ef243070>"
      ]
     },
     "execution_count": 177,
     "metadata": {},
     "output_type": "execute_result"
    },
    {
     "data": {
      "image/png": "[encoded data removed]",
      "text/plain": [
       "<Figure size 640x480 with 1 Axes>"
      ]
     },
     "metadata": {},
     "output_type": "display_data"
    }
   ],
   "source": [
    "def generate_all_solutions(connection_matrix_function, num_squares):\n",
    "    matrix = connection_matrix_function(num_squares)\n",
    "    for row in matrix:\n",
    "        if 0 in row:\n",
    "\n",
    "    \n",
    "    fails = []\n",
    "    coin_strings = generate_hypercube_vertices(num_squares)\n",
    "    for key_position in range(1,num_squares + 1):\n",
    "        try: \n",
    "            for coin_string in coin_strings:\n",
    "                initial_board = create_board_from_coins_list(coin_string)\n",
    "                #print(initial_board, coin_string)\n",
    "                flip_coin = flip_this_coin(key_position, coin_string, matrix)\n",
    "                new_coin_list = flip_nth_bit(flip_coin, coin_string)\n",
    "                new_board = create_board_from_coins_list(new_coin_list)\n",
    "                new_colour = find_colour(new_coin_list, matrix)\n",
    "                #print(f'key = {key_position}', f'initial board = {initial_board}', \n",
    "                    #f'flip {flip_coin}', f'new_board {new_board}', \n",
    "                    #f'new_colour {new_colour}')\n",
    "                if key_position != new_colour:\n",
    "                    fails.append(f'key = {key_position}, initial board = {initial_board}, flip {flip_coin}, new_board {new_board}, new_colour {new_colour}')\n",
    "        except:\n",
    "            fails.append(f'key = {key_position}, initial board = {initial_board}, flip {flip_coin}, new_board {new_board}, new_colour {new_colour}')\n",
    "\n",
    "    if fails == []:\n",
    "        return True, plt.imshow(matrix), matrix\n",
    "    else: \n",
    "        return False, plt.imshow(matrix), matrix, fails\n",
    "    \n",
    "testing(generate_connection_matrix_alternate,4)"
   ]
  },
  {
   "cell_type": "code",
   "execution_count": 527,
   "metadata": {},
   "outputs": [],
   "source": [
    "for row in [[1,1,3],[1,4,3]]:\n",
    "    if 0 in row: print(False)"
   ]
  },
  {
   "cell_type": "code",
   "execution_count": 3,
   "metadata": {},
   "outputs": [
    {
     "name": "stdout",
     "output_type": "stream",
     "text": [
      "1 2 3 4\n",
      "1 2 4 3\n",
      "1 3 2 4\n",
      "1 3 4 2\n",
      "1 4 3 2\n",
      "1 4 2 3\n",
      "2 1 3 4\n",
      "2 1 4 3\n",
      "2 3 1 4\n",
      "2 3 4 1\n",
      "2 4 3 1\n",
      "2 4 1 3\n",
      "3 2 1 4\n",
      "3 2 4 1\n",
      "3 1 2 4\n",
      "3 1 4 2\n",
      "3 4 1 2\n",
      "3 4 2 1\n",
      "4 2 3 1\n",
      "4 2 1 3\n",
      "4 3 2 1\n",
      "4 3 1 2\n",
      "4 1 3 2\n",
      "4 1 2 3\n"
     ]
    }
   ],
   "source": [
    "# Function to swap elements in the array\n",
    "def swap(arr, i, j):\n",
    "    arr[i], arr[j] = arr[j], arr[i]\n",
    "\n",
    "# Function to find the possible permutations. \n",
    "# Initial value of idx is 0.\n",
    "def permutations(res, arr, idx):\n",
    "  \n",
    "    # Base case: if idx reaches the size of the array,\n",
    "    # add the permutation to the result\n",
    "    if idx == len(arr):\n",
    "        res.append(arr[:])\n",
    "        return\n",
    "\n",
    "    # Permutations made by swapping each element\n",
    "    for i in range(idx, len(arr)):\n",
    "        swap(arr, idx, i)\n",
    "        permutations(res, arr, idx + 1)\n",
    "        swap(arr, idx, i)  # Backtracking\n",
    "\n",
    "# Function to get the permutations\n",
    "def permute(arr):\n",
    "    res = []\n",
    "    permutations(res, arr, 0)\n",
    "    return res\n",
    "\n",
    "# Driver code\n",
    "arr = [1, 2, 3,4]\n",
    "res = permute(arr)\n",
    "\n",
    "# Printing result\n",
    "for perm in res:\n",
    "    print(\" \".join(map(str, perm)))"
   ]
  },
  {
   "cell_type": "code",
   "execution_count": null,
   "metadata": {},
   "outputs": [],
   "source": []
  }
 ],
 "metadata": {
  "kernelspec": {
   "display_name": ".recreational_venv",
   "language": "python",
   "name": "python3"
  },
  "language_info": {
   "codemirror_mode": {
    "name": "ipython",
    "version": 3
   },
   "file_extension": ".py",
   "mimetype": "text/x-python",
   "name": "python",
   "nbconvert_exporter": "python",
   "pygments_lexer": "ipython3",
   "version": "3.10.11"
  }
 },
 "nbformat": 4,
 "nbformat_minor": 2
}

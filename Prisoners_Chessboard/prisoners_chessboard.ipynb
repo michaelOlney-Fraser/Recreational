{
 "cells": [
  {
   "cell_type": "code",
   "execution_count": 1,
   "metadata": {},
   "outputs": [],
   "source": [
    "import numpy as np\n",
    "import matplotlib.pyplot as plt\n"
   ]
  },
  {
   "cell_type": "code",
   "execution_count": 137,
   "metadata": {},
   "outputs": [],
   "source": [
    "def generate_connection_matrix(board_size):\n",
    "    assert board_size % 2 == 0 \n",
    "\n",
    "    connection_matrix = np.zeros((board_size, board_size))\n",
    "    first_row = list(range(board_size))\n",
    "    for n in range(board_size):\n",
    "        connection_matrix[0][n] = int(first_row[n])\n",
    "        connection_matrix[-1][n] = int(first_row[-n-1])\n",
    "        connection_matrix[n][0] = int(first_row[n])\n",
    "        connection_matrix[n][-1] = int(first_row[-n-1])\n",
    "        connection_matrix[n][-1-n] = int(first_row[-1])\n",
    "    \n",
    "    if board_size >= 6: \n",
    "        upper_triangle_rows = list(range(1,int(board_size/2-1)))\n",
    "    else:\n",
    "        upper_triangle_rows = []\n",
    "    for row in upper_triangle_rows:\n",
    "        for col in list(range(row + 1, board_size-row-1)):\n",
    "            allowed_nums = list(range(1, board_size - 1))\n",
    "            # Checking the numbers already in this row and removing them from allowed nums\n",
    "            for num in connection_matrix[row]:\n",
    "                if num in allowed_nums: allowed_nums.remove(num)\n",
    "            \n",
    "            # Checking the numbers already in this column\n",
    "            for num in [connection_matrix[_][col] for _ in range(board_size)]:\n",
    "                if num in allowed_nums: allowed_nums.remove(num)\n",
    "            \n",
    "            try: \n",
    "                connection_matrix[row][col] = allowed_nums[0]\n",
    "                connection_matrix[col][row] = allowed_nums[0]\n",
    "                connection_matrix[-row-1][-col-1] = allowed_nums[0]\n",
    "                connection_matrix[-col-1][-row-1] = allowed_nums[0]\n",
    "            except: \n",
    "                return \"failed\"\n",
    "\n",
    "    return connection_matrix"
   ]
  },
  {
   "cell_type": "code",
   "execution_count": 140,
   "metadata": {},
   "outputs": [
    {
     "data": {
      "text/plain": [
       "<matplotlib.image.AxesImage at 0x1d526f08940>"
      ]
     },
     "execution_count": 140,
     "metadata": {},
     "output_type": "execute_result"
    },
    {
     "data": {
      "image/png": "[encoded data removed]",
      "text/plain": [
       "<Figure size 480x480 with 1 Axes>"
      ]
     },
     "metadata": {},
     "output_type": "display_data"
    }
   ],
   "source": [
    "mat = generate_connection_matrix(16)\n",
    "plt.matshow(mat)"
   ]
  },
  {
   "cell_type": "code",
   "execution_count": 141,
   "metadata": {},
   "outputs": [
    {
     "data": {
      "text/plain": [
       "<matplotlib.image.AxesImage at 0x1d52801ff70>"
      ]
     },
     "execution_count": 141,
     "metadata": {},
     "output_type": "execute_result"
    },
    {
     "data": {
      "image/png": "[encoded data removed]",
      "text/plain": [
       "<Figure size 480x480 with 1 Axes>"
      ]
     },
     "metadata": {},
     "output_type": "display_data"
    }
   ],
   "source": [
    "mat = generate_connection_matrix(4)\n",
    "plt.matshow(mat)"
   ]
  },
  {
   "cell_type": "code",
   "execution_count": 66,
   "metadata": {},
   "outputs": [
    {
     "ename": "ValueError",
     "evalue": "list.remove(x): x not in list",
     "output_type": "error",
     "traceback": [
      "\u001b[1;31m---------------------------------------------------------------------------\u001b[0m",
      "\u001b[1;31mValueError\u001b[0m                                Traceback (most recent call last)",
      "Cell \u001b[1;32mIn[66], line 7\u001b[0m\n\u001b[0;32m      5\u001b[0m     allowed_nums\u001b[38;5;241m.\u001b[39mremove(num)\n\u001b[0;32m      6\u001b[0m \u001b[38;5;28;01mfor\u001b[39;00m num \u001b[38;5;129;01min\u001b[39;00m mat[row][\u001b[38;5;241m-\u001b[39mrow:]:\n\u001b[1;32m----> 7\u001b[0m     \u001b[43mallowed_nums\u001b[49m\u001b[38;5;241;43m.\u001b[39;49m\u001b[43mremove\u001b[49m\u001b[43m(\u001b[49m\u001b[43mnum\u001b[49m\u001b[43m)\u001b[49m\n\u001b[0;32m      8\u001b[0m \u001b[38;5;28;01mfor\u001b[39;00m col \u001b[38;5;129;01min\u001b[39;00m \u001b[38;5;28mrange\u001b[39m(row \u001b[38;5;241m+\u001b[39m \u001b[38;5;241m1\u001b[39m, row \u001b[38;5;241m+\u001b[39m \u001b[38;5;241m1\u001b[39m \u001b[38;5;241m+\u001b[39m row_size):\n\u001b[0;32m      9\u001b[0m     \u001b[38;5;28;01mpass\u001b[39;00m\n",
      "\u001b[1;31mValueError\u001b[0m: list.remove(x): x not in list"
     ]
    }
   ],
   "source": [
    "for row in range(1,int(4/2)):\n",
    "    row_size = 4 - 2*row -2\n",
    "    allowed_nums = list(range(4))\n",
    "    for num in mat[row][:row]:\n",
    "        allowed_nums.remove(num)\n",
    "    for num in mat[row][-row:]:\n",
    "        allowed_nums.remove(num)\n",
    "    for col in range(row + 1, row + 1 + row_size):\n",
    "        pass\n",
    "\n",
    "allowed_nums, mat"
   ]
  },
  {
   "cell_type": "code",
   "execution_count": null,
   "metadata": {},
   "outputs": [],
   "source": []
  }
 ],
 "metadata": {
  "kernelspec": {
   "display_name": "recreational-environment",
   "language": "python",
   "name": "python3"
  },
  "language_info": {
   "codemirror_mode": {
    "name": "ipython",
    "version": 3
   },
   "file_extension": ".py",
   "mimetype": "text/x-python",
   "name": "python",
   "nbconvert_exporter": "python",
   "pygments_lexer": "ipython3",
   "version": "3.9.8"
  }
 },
 "nbformat": 4,
 "nbformat_minor": 2
}
